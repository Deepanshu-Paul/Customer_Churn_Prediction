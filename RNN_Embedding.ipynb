{
  "cells": [
    {
      "cell_type": "markdown",
      "metadata": {
        "id": "view-in-github",
        "colab_type": "text"
      },
      "source": [
        "<a href=\"https://colab.research.google.com/github/Deepanshu-Paul/Customer_Churn_Prediction/blob/main/RNN_Embedding.ipynb\" target=\"_parent\"><img src=\"https://colab.research.google.com/assets/colab-badge.svg\" alt=\"Open In Colab\"/></a>"
      ]
    },
    {
      "cell_type": "code",
      "source": [
        "from tensorflow.keras.utils import to_categorical\n",
        "from tensorflow.keras.preprocessing.text import Tokenizer\n",
        "\n",
        "sent = [\n",
        "    \"Cat purrs on windowsill.\",\n",
        "    \"Children splash in puddles.\",\n",
        "    \"Sailboat glides on lake.\",\n",
        "    \"Bread smells warm, tempting.\",\n",
        "    \"Sunset paints sky vibrant.\"\n",
        "]\n",
        "\n",
        "voc_size = 10000\n",
        "\n",
        "# Create a tokenizer and fit it on the sentences\n",
        "tokenizer = Tokenizer(num_words=voc_size, oov_token='<OOV>')\n",
        "tokenizer.fit_on_texts(sent)\n",
        "\n",
        "# Get the word index for each sentence\n",
        "sequences = tokenizer.texts_to_sequences(sent)\n",
        "\n",
        "# One-hot encode the sequences\n",
        "onehot = [to_categorical(word_index, num_classes=voc_size) for sequence in sequences for word_index in sequence]\n",
        "\n",
        "print(sequences)"
      ],
      "metadata": {
        "colab": {
          "base_uri": "https://localhost:8080/"
        },
        "id": "9VLqq_LRTZN1",
        "outputId": "617122eb-ddb2-4e06-a315-a29098803357"
      },
      "execution_count": 7,
      "outputs": [
        {
          "output_type": "stream",
          "name": "stdout",
          "text": [
            "[[3, 4, 2, 5], [6, 7, 8, 9], [10, 11, 2, 12], [13, 14, 15, 16], [17, 18, 19, 20]]\n"
          ]
        }
      ]
    },
    {
      "cell_type": "code",
      "source": [
        "## Word Embedding\n",
        "\n",
        "from tensorflow.keras.layers import Embedding\n",
        "from tensorflow.keras.utils import pad_sequences\n",
        "from tensorflow.keras.models import Sequential"
      ],
      "metadata": {
        "id": "6jEZlj_kTZRX"
      },
      "execution_count": 4,
      "outputs": []
    },
    {
      "cell_type": "code",
      "source": [
        "import numpy as np\n",
        "import pandas as pd"
      ],
      "metadata": {
        "id": "At0M3479TZTq"
      },
      "execution_count": 5,
      "outputs": []
    },
    {
      "cell_type": "code",
      "source": [
        "sent_length = 8\n",
        "embedded_docs = pad_sequences(sequences, padding='pre', maxlen=sent_length)\n",
        "print(embedded_docs)"
      ],
      "metadata": {
        "colab": {
          "base_uri": "https://localhost:8080/"
        },
        "id": "WGaIygKmTZYG",
        "outputId": "1c0e08f6-ff1d-4d52-d6c7-9f43de4a18a5"
      },
      "execution_count": 6,
      "outputs": [
        {
          "output_type": "stream",
          "name": "stdout",
          "text": [
            "[[ 0  0  0  0  3  4  2  5]\n",
            " [ 0  0  0  0  6  7  8  9]\n",
            " [ 0  0  0  0 10 11  2 12]\n",
            " [ 0  0  0  0 13 14 15 16]\n",
            " [ 0  0  0  0 17 18 19 20]]\n"
          ]
        }
      ]
    },
    {
      "cell_type": "code",
      "source": [
        "## feature representation\n",
        "dim = 10\n",
        "voc_size = 10000"
      ],
      "metadata": {
        "id": "X0DchTkzTZan"
      },
      "execution_count": 13,
      "outputs": []
    },
    {
      "cell_type": "code",
      "source": [
        "model = Sequential()\n",
        "model.add(Embedding(voc_size, dim, input_length=sent_length))\n",
        "model.compile('adam', 'mse')"
      ],
      "metadata": {
        "id": "pZ1x4FaITZd5"
      },
      "execution_count": 16,
      "outputs": []
    },
    {
      "cell_type": "code",
      "source": [
        "model.summary()"
      ],
      "metadata": {
        "colab": {
          "base_uri": "https://localhost:8080/",
          "height": 178
        },
        "id": "OTVnSfs7Rug_",
        "outputId": "14c0ddd9-47a5-4830-b564-e0c88ebddb8a"
      },
      "execution_count": 17,
      "outputs": [
        {
          "output_type": "display_data",
          "data": {
            "text/plain": [
              "\u001b[1mModel: \"sequential_3\"\u001b[0m\n"
            ],
            "text/html": [
              "<pre style=\"white-space:pre;overflow-x:auto;line-height:normal;font-family:Menlo,'DejaVu Sans Mono',consolas,'Courier New',monospace\"><span style=\"font-weight: bold\">Model: \"sequential_3\"</span>\n",
              "</pre>\n"
            ]
          },
          "metadata": {}
        },
        {
          "output_type": "display_data",
          "data": {
            "text/plain": [
              "┏━━━━━━━━━━━━━━━━━━━━━━━━━━━━━━━━━━━━━━┳━━━━━━━━━━━━━━━━━━━━━━━━━━━━━┳━━━━━━━━━━━━━━━━━┓\n",
              "┃\u001b[1m \u001b[0m\u001b[1mLayer (type)                        \u001b[0m\u001b[1m \u001b[0m┃\u001b[1m \u001b[0m\u001b[1mOutput Shape               \u001b[0m\u001b[1m \u001b[0m┃\u001b[1m \u001b[0m\u001b[1m        Param #\u001b[0m\u001b[1m \u001b[0m┃\n",
              "┡━━━━━━━━━━━━━━━━━━━━━━━━━━━━━━━━━━━━━━╇━━━━━━━━━━━━━━━━━━━━━━━━━━━━━╇━━━━━━━━━━━━━━━━━┩\n",
              "│ embedding_3 (\u001b[38;5;33mEmbedding\u001b[0m)              │ ?                           │     \u001b[38;5;34m0\u001b[0m (unbuilt) │\n",
              "└──────────────────────────────────────┴─────────────────────────────┴─────────────────┘\n"
            ],
            "text/html": [
              "<pre style=\"white-space:pre;overflow-x:auto;line-height:normal;font-family:Menlo,'DejaVu Sans Mono',consolas,'Courier New',monospace\">┏━━━━━━━━━━━━━━━━━━━━━━━━━━━━━━━━━━━━━━┳━━━━━━━━━━━━━━━━━━━━━━━━━━━━━┳━━━━━━━━━━━━━━━━━┓\n",
              "┃<span style=\"font-weight: bold\"> Layer (type)                         </span>┃<span style=\"font-weight: bold\"> Output Shape                </span>┃<span style=\"font-weight: bold\">         Param # </span>┃\n",
              "┡━━━━━━━━━━━━━━━━━━━━━━━━━━━━━━━━━━━━━━╇━━━━━━━━━━━━━━━━━━━━━━━━━━━━━╇━━━━━━━━━━━━━━━━━┩\n",
              "│ embedding_3 (<span style=\"color: #0087ff; text-decoration-color: #0087ff\">Embedding</span>)              │ ?                           │     <span style=\"color: #00af00; text-decoration-color: #00af00\">0</span> (unbuilt) │\n",
              "└──────────────────────────────────────┴─────────────────────────────┴─────────────────┘\n",
              "</pre>\n"
            ]
          },
          "metadata": {}
        },
        {
          "output_type": "display_data",
          "data": {
            "text/plain": [
              "\u001b[1m Total params: \u001b[0m\u001b[38;5;34m0\u001b[0m (0.00 B)\n"
            ],
            "text/html": [
              "<pre style=\"white-space:pre;overflow-x:auto;line-height:normal;font-family:Menlo,'DejaVu Sans Mono',consolas,'Courier New',monospace\"><span style=\"font-weight: bold\"> Total params: </span><span style=\"color: #00af00; text-decoration-color: #00af00\">0</span> (0.00 B)\n",
              "</pre>\n"
            ]
          },
          "metadata": {}
        },
        {
          "output_type": "display_data",
          "data": {
            "text/plain": [
              "\u001b[1m Trainable params: \u001b[0m\u001b[38;5;34m0\u001b[0m (0.00 B)\n"
            ],
            "text/html": [
              "<pre style=\"white-space:pre;overflow-x:auto;line-height:normal;font-family:Menlo,'DejaVu Sans Mono',consolas,'Courier New',monospace\"><span style=\"font-weight: bold\"> Trainable params: </span><span style=\"color: #00af00; text-decoration-color: #00af00\">0</span> (0.00 B)\n",
              "</pre>\n"
            ]
          },
          "metadata": {}
        },
        {
          "output_type": "display_data",
          "data": {
            "text/plain": [
              "\u001b[1m Non-trainable params: \u001b[0m\u001b[38;5;34m0\u001b[0m (0.00 B)\n"
            ],
            "text/html": [
              "<pre style=\"white-space:pre;overflow-x:auto;line-height:normal;font-family:Menlo,'DejaVu Sans Mono',consolas,'Courier New',monospace\"><span style=\"font-weight: bold\"> Non-trainable params: </span><span style=\"color: #00af00; text-decoration-color: #00af00\">0</span> (0.00 B)\n",
              "</pre>\n"
            ]
          },
          "metadata": {}
        }
      ]
    },
    {
      "cell_type": "code",
      "source": [
        "model.predict(embedded_docs)"
      ],
      "metadata": {
        "colab": {
          "base_uri": "https://localhost:8080/"
        },
        "id": "bCGKfhk5Rukt",
        "outputId": "f5a3e9fa-f538-4c8e-e353-0670bf033b42"
      },
      "execution_count": 18,
      "outputs": [
        {
          "output_type": "stream",
          "name": "stdout",
          "text": [
            "\u001b[1m1/1\u001b[0m \u001b[32m━━━━━━━━━━━━━━━━━━━━\u001b[0m\u001b[37m\u001b[0m \u001b[1m0s\u001b[0m 248ms/step\n"
          ]
        },
        {
          "output_type": "execute_result",
          "data": {
            "text/plain": [
              "array([[[ 7.8294650e-03,  1.5080277e-02,  2.1624390e-02,  5.7041645e-03,\n",
              "          2.3313228e-02, -9.0139024e-03, -9.4078183e-03, -6.6523068e-03,\n",
              "          3.6927667e-02, -4.0283561e-02],\n",
              "        [ 7.8294650e-03,  1.5080277e-02,  2.1624390e-02,  5.7041645e-03,\n",
              "          2.3313228e-02, -9.0139024e-03, -9.4078183e-03, -6.6523068e-03,\n",
              "          3.6927667e-02, -4.0283561e-02],\n",
              "        [ 7.8294650e-03,  1.5080277e-02,  2.1624390e-02,  5.7041645e-03,\n",
              "          2.3313228e-02, -9.0139024e-03, -9.4078183e-03, -6.6523068e-03,\n",
              "          3.6927667e-02, -4.0283561e-02],\n",
              "        [ 7.8294650e-03,  1.5080277e-02,  2.1624390e-02,  5.7041645e-03,\n",
              "          2.3313228e-02, -9.0139024e-03, -9.4078183e-03, -6.6523068e-03,\n",
              "          3.6927667e-02, -4.0283561e-02],\n",
              "        [ 3.1434409e-03, -2.9738856e-02, -1.6275227e-02, -2.7113069e-02,\n",
              "         -1.1366915e-02, -3.4661055e-02, -5.6765079e-03, -4.5722511e-02,\n",
              "          2.6022878e-02,  2.6905131e-02],\n",
              "        [-4.6930816e-02,  2.9446010e-02, -4.7580816e-02,  1.6337428e-02,\n",
              "         -2.4724830e-02, -1.8619001e-02, -9.2405789e-03,  3.9552342e-02,\n",
              "          7.1189031e-03, -1.3316464e-02],\n",
              "        [-5.1220171e-03, -2.5228858e-03,  3.3508051e-02, -7.5651184e-03,\n",
              "         -3.0193627e-02,  3.0567870e-03, -1.7213024e-02, -1.9876052e-02,\n",
              "          9.1228113e-03,  1.8682349e-02],\n",
              "        [-1.8727373e-02, -2.9741859e-02, -4.6002757e-02,  3.1162035e-02,\n",
              "          4.3283787e-02,  1.3604153e-02,  7.8661367e-04, -3.4109809e-02,\n",
              "         -1.0823477e-02, -3.6502481e-02]],\n",
              "\n",
              "       [[ 7.8294650e-03,  1.5080277e-02,  2.1624390e-02,  5.7041645e-03,\n",
              "          2.3313228e-02, -9.0139024e-03, -9.4078183e-03, -6.6523068e-03,\n",
              "          3.6927667e-02, -4.0283561e-02],\n",
              "        [ 7.8294650e-03,  1.5080277e-02,  2.1624390e-02,  5.7041645e-03,\n",
              "          2.3313228e-02, -9.0139024e-03, -9.4078183e-03, -6.6523068e-03,\n",
              "          3.6927667e-02, -4.0283561e-02],\n",
              "        [ 7.8294650e-03,  1.5080277e-02,  2.1624390e-02,  5.7041645e-03,\n",
              "          2.3313228e-02, -9.0139024e-03, -9.4078183e-03, -6.6523068e-03,\n",
              "          3.6927667e-02, -4.0283561e-02],\n",
              "        [ 7.8294650e-03,  1.5080277e-02,  2.1624390e-02,  5.7041645e-03,\n",
              "          2.3313228e-02, -9.0139024e-03, -9.4078183e-03, -6.6523068e-03,\n",
              "          3.6927667e-02, -4.0283561e-02],\n",
              "        [-4.5285035e-02,  2.0286214e-02,  4.1411664e-02,  2.7424384e-02,\n",
              "          4.7572363e-02, -1.1457540e-02,  1.4956240e-02,  3.2656875e-02,\n",
              "         -3.6414780e-02,  3.5295252e-02],\n",
              "        [ 1.1418331e-02, -2.3406804e-02, -7.3656552e-03,  2.0796333e-02,\n",
              "         -4.0226411e-02, -4.8354484e-02,  4.7694333e-03,  4.8088703e-02,\n",
              "         -7.5720921e-03, -3.8425662e-02],\n",
              "        [-3.0102564e-02,  4.3284822e-02,  4.1733894e-02,  4.8730407e-02,\n",
              "          1.1670105e-03,  2.8723527e-02,  2.5854733e-02, -4.5764267e-02,\n",
              "          3.1588230e-02, -1.4141191e-02],\n",
              "        [ 3.2885168e-02, -2.1135438e-02,  3.1324718e-02,  4.5678381e-02,\n",
              "         -1.3551079e-02,  1.9377097e-03,  1.8595885e-02, -2.0100320e-02,\n",
              "          1.8431831e-02,  3.7601028e-02]],\n",
              "\n",
              "       [[ 7.8294650e-03,  1.5080277e-02,  2.1624390e-02,  5.7041645e-03,\n",
              "          2.3313228e-02, -9.0139024e-03, -9.4078183e-03, -6.6523068e-03,\n",
              "          3.6927667e-02, -4.0283561e-02],\n",
              "        [ 7.8294650e-03,  1.5080277e-02,  2.1624390e-02,  5.7041645e-03,\n",
              "          2.3313228e-02, -9.0139024e-03, -9.4078183e-03, -6.6523068e-03,\n",
              "          3.6927667e-02, -4.0283561e-02],\n",
              "        [ 7.8294650e-03,  1.5080277e-02,  2.1624390e-02,  5.7041645e-03,\n",
              "          2.3313228e-02, -9.0139024e-03, -9.4078183e-03, -6.6523068e-03,\n",
              "          3.6927667e-02, -4.0283561e-02],\n",
              "        [ 7.8294650e-03,  1.5080277e-02,  2.1624390e-02,  5.7041645e-03,\n",
              "          2.3313228e-02, -9.0139024e-03, -9.4078183e-03, -6.6523068e-03,\n",
              "          3.6927667e-02, -4.0283561e-02],\n",
              "        [ 1.2432992e-02,  4.5442332e-02, -6.5815449e-03,  4.3399632e-06,\n",
              "          2.8295841e-02, -2.7054358e-02, -4.5894753e-02, -4.0620588e-02,\n",
              "         -2.6629413e-02, -3.6274146e-02],\n",
              "        [ 4.2211413e-03,  2.3065452e-02, -2.1538222e-02,  4.4080187e-02,\n",
              "          4.6490263e-02, -9.8010786e-03, -9.8490007e-03,  8.7926164e-03,\n",
              "          9.6537471e-03, -9.8252408e-03],\n",
              "        [-5.1220171e-03, -2.5228858e-03,  3.3508051e-02, -7.5651184e-03,\n",
              "         -3.0193627e-02,  3.0567870e-03, -1.7213024e-02, -1.9876052e-02,\n",
              "          9.1228113e-03,  1.8682349e-02],\n",
              "        [-2.3314370e-02, -4.2657543e-02,  4.0728953e-02,  1.2277972e-02,\n",
              "         -1.6235001e-03, -3.5616867e-03,  3.7648678e-03,  3.2787751e-02,\n",
              "          4.6379711e-02, -7.7940002e-03]],\n",
              "\n",
              "       [[ 7.8294650e-03,  1.5080277e-02,  2.1624390e-02,  5.7041645e-03,\n",
              "          2.3313228e-02, -9.0139024e-03, -9.4078183e-03, -6.6523068e-03,\n",
              "          3.6927667e-02, -4.0283561e-02],\n",
              "        [ 7.8294650e-03,  1.5080277e-02,  2.1624390e-02,  5.7041645e-03,\n",
              "          2.3313228e-02, -9.0139024e-03, -9.4078183e-03, -6.6523068e-03,\n",
              "          3.6927667e-02, -4.0283561e-02],\n",
              "        [ 7.8294650e-03,  1.5080277e-02,  2.1624390e-02,  5.7041645e-03,\n",
              "          2.3313228e-02, -9.0139024e-03, -9.4078183e-03, -6.6523068e-03,\n",
              "          3.6927667e-02, -4.0283561e-02],\n",
              "        [ 7.8294650e-03,  1.5080277e-02,  2.1624390e-02,  5.7041645e-03,\n",
              "          2.3313228e-02, -9.0139024e-03, -9.4078183e-03, -6.6523068e-03,\n",
              "          3.6927667e-02, -4.0283561e-02],\n",
              "        [-2.7676558e-02, -1.6100667e-02,  4.5647409e-02, -2.7932405e-02,\n",
              "         -2.6793588e-02,  2.9052261e-02,  3.3909049e-02, -3.8903691e-02,\n",
              "         -2.7654655e-03,  6.5407157e-03],\n",
              "        [-1.3150133e-02, -4.9757864e-02, -3.9960969e-02, -4.8692491e-02,\n",
              "         -3.8204767e-02,  1.8429104e-02,  3.6567520e-02, -4.3454614e-02,\n",
              "         -4.2805113e-02,  3.8419377e-02],\n",
              "        [-3.7695311e-02, -2.1824336e-02,  1.4135454e-02, -2.6498128e-02,\n",
              "          4.3368552e-02,  3.2935668e-02,  4.6931133e-03, -2.1324610e-02,\n",
              "         -2.7792621e-02,  2.5432024e-02],\n",
              "        [ 1.5862439e-02,  4.6143804e-02,  8.3825476e-03, -1.6686916e-03,\n",
              "          6.5057054e-03,  8.6895227e-03, -3.1775177e-02, -3.9763711e-02,\n",
              "         -4.3026473e-02,  3.1761527e-03]],\n",
              "\n",
              "       [[ 7.8294650e-03,  1.5080277e-02,  2.1624390e-02,  5.7041645e-03,\n",
              "          2.3313228e-02, -9.0139024e-03, -9.4078183e-03, -6.6523068e-03,\n",
              "          3.6927667e-02, -4.0283561e-02],\n",
              "        [ 7.8294650e-03,  1.5080277e-02,  2.1624390e-02,  5.7041645e-03,\n",
              "          2.3313228e-02, -9.0139024e-03, -9.4078183e-03, -6.6523068e-03,\n",
              "          3.6927667e-02, -4.0283561e-02],\n",
              "        [ 7.8294650e-03,  1.5080277e-02,  2.1624390e-02,  5.7041645e-03,\n",
              "          2.3313228e-02, -9.0139024e-03, -9.4078183e-03, -6.6523068e-03,\n",
              "          3.6927667e-02, -4.0283561e-02],\n",
              "        [ 7.8294650e-03,  1.5080277e-02,  2.1624390e-02,  5.7041645e-03,\n",
              "          2.3313228e-02, -9.0139024e-03, -9.4078183e-03, -6.6523068e-03,\n",
              "          3.6927667e-02, -4.0283561e-02],\n",
              "        [-2.7591158e-02, -3.3468604e-02, -2.9837882e-02, -4.8961308e-02,\n",
              "          2.8720919e-02, -9.0982206e-03,  1.6568217e-02,  3.4419645e-02,\n",
              "          9.6298680e-03,  1.7362822e-02],\n",
              "        [ 3.0439723e-02,  1.5796755e-02,  2.1623496e-02, -2.5101829e-02,\n",
              "         -3.1799484e-02, -3.2451175e-02, -3.5946645e-02, -4.0040709e-02,\n",
              "          4.9796168e-02, -3.4110010e-02],\n",
              "        [ 1.5711080e-02, -3.1042898e-02, -4.2546462e-02,  2.4107549e-02,\n",
              "          1.5593063e-02, -2.2694563e-02,  4.6324324e-02,  8.8594928e-03,\n",
              "          2.6044473e-03,  2.9602084e-02],\n",
              "        [ 3.4540381e-02, -1.5490316e-02, -2.1154964e-02, -3.3502840e-02,\n",
              "          4.8718099e-02,  1.3947990e-02,  4.8580501e-02,  3.8594518e-02,\n",
              "         -1.2477696e-02,  4.7000717e-02]]], dtype=float32)"
            ]
          },
          "metadata": {},
          "execution_count": 18
        }
      ]
    },
    {
      "cell_type": "code",
      "source": [
        "model.predict(embedded_docs[0].reshape(1, -1))"
      ],
      "metadata": {
        "colab": {
          "base_uri": "https://localhost:8080/"
        },
        "id": "47nkzR0JRunA",
        "outputId": "292e2a6b-e62b-493b-99ed-c9027babc4bd"
      },
      "execution_count": 21,
      "outputs": [
        {
          "output_type": "stream",
          "name": "stdout",
          "text": [
            "\u001b[1m1/1\u001b[0m \u001b[32m━━━━━━━━━━━━━━━━━━━━\u001b[0m\u001b[37m\u001b[0m \u001b[1m0s\u001b[0m 78ms/step\n"
          ]
        },
        {
          "output_type": "execute_result",
          "data": {
            "text/plain": [
              "array([[[ 0.00782946,  0.01508028,  0.02162439,  0.00570416,\n",
              "          0.02331323, -0.0090139 , -0.00940782, -0.00665231,\n",
              "          0.03692767, -0.04028356],\n",
              "        [ 0.00782946,  0.01508028,  0.02162439,  0.00570416,\n",
              "          0.02331323, -0.0090139 , -0.00940782, -0.00665231,\n",
              "          0.03692767, -0.04028356],\n",
              "        [ 0.00782946,  0.01508028,  0.02162439,  0.00570416,\n",
              "          0.02331323, -0.0090139 , -0.00940782, -0.00665231,\n",
              "          0.03692767, -0.04028356],\n",
              "        [ 0.00782946,  0.01508028,  0.02162439,  0.00570416,\n",
              "          0.02331323, -0.0090139 , -0.00940782, -0.00665231,\n",
              "          0.03692767, -0.04028356],\n",
              "        [ 0.00314344, -0.02973886, -0.01627523, -0.02711307,\n",
              "         -0.01136691, -0.03466105, -0.00567651, -0.04572251,\n",
              "          0.02602288,  0.02690513],\n",
              "        [-0.04693082,  0.02944601, -0.04758082,  0.01633743,\n",
              "         -0.02472483, -0.018619  , -0.00924058,  0.03955234,\n",
              "          0.0071189 , -0.01331646],\n",
              "        [-0.00512202, -0.00252289,  0.03350805, -0.00756512,\n",
              "         -0.03019363,  0.00305679, -0.01721302, -0.01987605,\n",
              "          0.00912281,  0.01868235],\n",
              "        [-0.01872737, -0.02974186, -0.04600276,  0.03116203,\n",
              "          0.04328379,  0.01360415,  0.00078661, -0.03410981,\n",
              "         -0.01082348, -0.03650248]]], dtype=float32)"
            ]
          },
          "metadata": {},
          "execution_count": 21
        }
      ]
    },
    {
      "cell_type": "code",
      "source": [],
      "metadata": {
        "id": "dKTtE7orRupc"
      },
      "execution_count": null,
      "outputs": []
    },
    {
      "cell_type": "code",
      "source": [],
      "metadata": {
        "id": "tX2Z-0uBRusA"
      },
      "execution_count": null,
      "outputs": []
    },
    {
      "cell_type": "code",
      "source": [],
      "metadata": {
        "id": "0lKtxvK5Ruuq"
      },
      "execution_count": null,
      "outputs": []
    },
    {
      "cell_type": "code",
      "source": [],
      "metadata": {
        "id": "zk783bjgRuyk"
      },
      "execution_count": null,
      "outputs": []
    },
    {
      "cell_type": "code",
      "source": [],
      "metadata": {
        "id": "iwPMXQo5Ru1q"
      },
      "execution_count": null,
      "outputs": []
    },
    {
      "cell_type": "code",
      "source": [],
      "metadata": {
        "id": "cDw8HNSdRu4z"
      },
      "execution_count": null,
      "outputs": []
    },
    {
      "cell_type": "code",
      "source": [],
      "metadata": {
        "id": "iQ_15_OsRu76"
      },
      "execution_count": null,
      "outputs": []
    },
    {
      "cell_type": "code",
      "source": [],
      "metadata": {
        "id": "IsxV-kWzRu_F"
      },
      "execution_count": null,
      "outputs": []
    },
    {
      "cell_type": "code",
      "source": [],
      "metadata": {
        "id": "eXe8A6o_RvCk"
      },
      "execution_count": null,
      "outputs": []
    },
    {
      "cell_type": "code",
      "source": [],
      "metadata": {
        "id": "wU7pPc3JRrxL"
      },
      "execution_count": null,
      "outputs": []
    },
    {
      "cell_type": "code",
      "source": [],
      "metadata": {
        "id": "k7tgH4QZRr0z"
      },
      "execution_count": null,
      "outputs": []
    },
    {
      "cell_type": "code",
      "source": [],
      "metadata": {
        "id": "dR4ghBIvRr21"
      },
      "execution_count": null,
      "outputs": []
    },
    {
      "cell_type": "code",
      "source": [],
      "metadata": {
        "id": "XYqAgMc8Rr5k"
      },
      "execution_count": null,
      "outputs": []
    },
    {
      "cell_type": "code",
      "source": [],
      "metadata": {
        "id": "afA05_xaRr8-"
      },
      "execution_count": null,
      "outputs": []
    },
    {
      "cell_type": "code",
      "source": [],
      "metadata": {
        "id": "2AC2QX7nRsBk"
      },
      "execution_count": null,
      "outputs": []
    },
    {
      "cell_type": "code",
      "source": [],
      "metadata": {
        "id": "44xAHWb6RsEN"
      },
      "execution_count": null,
      "outputs": []
    },
    {
      "cell_type": "code",
      "source": [],
      "metadata": {
        "id": "fUJs7vYxRsHi"
      },
      "execution_count": null,
      "outputs": []
    },
    {
      "cell_type": "markdown",
      "metadata": {
        "id": "P-H6Lw1vyNNd"
      },
      "source": [
        "<div class=\"markdown-google-sans\">\n",
        "\n",
        "<a name=\"machine-learning-examples\"></a>\n",
        "\n",
        "### Featured examples\n",
        "\n",
        "</div>\n",
        "\n",
        "- [Retraining an Image Classifier](https://tensorflow.org/hub/tutorials/tf2_image_retraining): Build a Keras model on top of a pre-trained image classifier to distinguish flowers.\n",
        "- [Text Classification](https://tensorflow.org/hub/tutorials/tf2_text_classification): Classify IMDB movie reviews as either *positive* or *negative*.\n",
        "- [Style Transfer](https://tensorflow.org/hub/tutorials/tf2_arbitrary_image_stylization): Use deep learning to transfer style between images.\n",
        "- [Multilingual Universal Sentence Encoder Q&A](https://tensorflow.org/hub/tutorials/retrieval_with_tf_hub_universal_encoder_qa): Use a machine learning model to answer questions from the SQuAD dataset.\n",
        "- [Video Interpolation](https://tensorflow.org/hub/tutorials/tweening_conv3d): Predict what happened in a video between the first and the last frame.\n"
      ]
    }
  ],
  "metadata": {
    "colab": {
      "provenance": [],
      "gpuType": "T4",
      "include_colab_link": true
    },
    "kernelspec": {
      "display_name": "Python 3",
      "name": "python3"
    }
  },
  "nbformat": 4,
  "nbformat_minor": 0
}